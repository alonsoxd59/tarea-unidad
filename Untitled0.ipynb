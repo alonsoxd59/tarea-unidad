{
  "nbformat": 4,
  "nbformat_minor": 0,
  "metadata": {
    "colab": {
      "provenance": [],
      "include_colab_link": true
    },
    "kernelspec": {
      "name": "python3",
      "display_name": "Python 3"
    },
    "language_info": {
      "name": "python"
    }
  },
  "cells": [
    {
      "cell_type": "markdown",
      "metadata": {
        "id": "view-in-github",
        "colab_type": "text"
      },
      "source": [
        "<a href=\"https://colab.research.google.com/github/alonsoxd59/tarea-unidad/blob/main/Untitled0.ipynb\" target=\"_parent\"><img src=\"https://colab.research.google.com/assets/colab-badge.svg\" alt=\"Open In Colab\"/></a>"
      ]
    },
    {
      "cell_type": "markdown",
      "source": [
        "<img src=\"https://www.ctic.uni.edu.pe/wp-content/uploads/2022/04/588px-x-348px-web-1.png\" alt=\"HTML5 Icon\" width=\"900\" height=\"350\" >\n"
      ],
      "metadata": {
        "id": "qCg1zV0_DK0j"
      }
    },
    {
      "cell_type": "markdown",
      "source": [
        "<h1 align=center><font size = 5>UNIDAD II - ESTRUCTURAS SELECTIVAS Y \n",
        "\n",
        "---\n",
        "\n",
        "REPETITIVAS\n",
        "</font></h1>\n",
        "\n",
        "---"
      ],
      "metadata": {
        "id": "XJ-qSpecBnPA"
      }
    },
    {
      "cell_type": "markdown",
      "source": [
        "#1. Introducción al entorno Python"
      ],
      "metadata": {
        "id": "NtuyU1UWq-4h"
      }
    },
    {
      "cell_type": "markdown",
      "source": [
        "### Constantes"
      ],
      "metadata": {
        "id": "pncAPB7TPruo"
      }
    },
    {
      "cell_type": "markdown",
      "source": [
        "<b> Ejercicio </b>\n",
        "\n",
        "Usa una variable para representar un número. Luego, usando esa variable, cree un mensaje que revele su número. Imprime ese mensaje."
      ],
      "metadata": {
        "id": "CpJsuNbVRKZ3"
      }
    },
    {
      "cell_type": "code",
      "source": [
        "nummero = 15\n",
        "print(f\"Numero: {nummero}\")"
      ],
      "metadata": {
        "colab": {
          "base_uri": "https://localhost:8080/"
        },
        "id": "jmhcpYZKrJxM",
        "outputId": "77ef7396-6d07-4e80-9ff9-d8661d45e2aa"
      },
      "execution_count": null,
      "outputs": [
        {
          "output_type": "stream",
          "name": "stdout",
          "text": [
            "Numero: 15\n"
          ]
        }
      ]
    },
    {
      "cell_type": "markdown",
      "source": [
        "# 2. Sentencias IF"
      ],
      "metadata": {
        "id": "AR6JaCmmRB6V"
      }
    },
    {
      "cell_type": "markdown",
      "source": [
        "### Probando múltiples condiciones"
      ],
      "metadata": {
        "id": "_8dO4jjn-Ga_"
      }
    },
    {
      "cell_type": "markdown",
      "source": [
        "<b> Ejercicio 1</b>\n",
        "\n",
        "Imagina que un extraterrestre acaba de ser derribado en un juego. Cree una variable llamada alien_color y asígnele un valor de 'verde', 'amarillo' o 'rojo'.\n",
        "\n",
        "Escribe una declaración if para probar si el color del extraterrestre es verde. Si es así, imprime un mensaje de que el jugador acaba de ganar 5 puntos."
      ],
      "metadata": {
        "id": "Y-WZOmge-ddV"
      }
    },
    {
      "cell_type": "code",
      "source": [
        "alien_color = 'verde'\n",
        "if (alien_color=='verde'):\n",
        "  print(\"Acaba de ganar 5 puntos\")\n"
      ],
      "metadata": {
        "id": "Togh8FFpmk4W",
        "outputId": "777d7217-5c3e-4ab1-a1f1-c77ce455c0dc",
        "colab": {
          "base_uri": "https://localhost:8080/"
        }
      },
      "execution_count": 1,
      "outputs": [
        {
          "output_type": "stream",
          "name": "stdout",
          "text": [
            "Acaba de ganar 5 puntos\n"
          ]
        }
      ]
    },
    {
      "cell_type": "markdown",
      "source": [
        "<b> Ejercicio 2</b>\n",
        "\n",
        "Elija un color para un extraterrestre como lo hizo en el Ejercicio anterior y escriba una cadena if-else.\n",
        "\n",
        "Si el alienígena es verde, imprime un mensaje de que el jugador obtuvo 5 puntos.\n",
        "Si el alienígena es amarillo, imprime un mensaje de que el jugador obtuvo 10 puntos.\n",
        "Si el alienígena es rojo, imprime un mensaje de que el jugador obtuvo 15 puntos."
      ],
      "metadata": {
        "id": "fe2t6tUu-_sX"
      }
    },
    {
      "cell_type": "code",
      "source": [
        "alien_color = 'rojo'\n",
        "if(alien_color==\"verde\"):\n",
        "  print(\"Acaba de ganar 5 puntos\")\n",
        "elif(alien_color==\"amarillo\"):\n",
        "  print(\"Acaba de ganar 10 puntos\")\n",
        "elif(alien_color==\"rojo\"):\n",
        "  print(\"Acaba de ganar 15 puntos\")\n"
      ],
      "metadata": {
        "colab": {
          "base_uri": "https://localhost:8080/"
        },
        "id": "a7GvCu7FvnwR",
        "outputId": "85be592e-7c0d-4ba5-bfce-6dff7257e128"
      },
      "execution_count": 4,
      "outputs": [
        {
          "output_type": "stream",
          "name": "stdout",
          "text": [
            "Acaba de ganar 15 puntos\n"
          ]
        }
      ]
    },
    {
      "cell_type": "markdown",
      "source": [
        "### Evitando Loops infinitos"
      ],
      "metadata": {
        "id": "YHli8JqnEsX6"
      }
    },
    {
      "cell_type": "markdown",
      "source": [
        "<b> Ejercicio 1</b>\n",
        "\n",
        "Escriba un ciclo que solicite al usuario que ingrese una serie de ingredientes para la pizza hasta que ingrese un valor de 'salir'. A medida que ingresen cada ingrediente, imprima un mensaje que diga que agregará ese ingrediente a su pizza."
      ],
      "metadata": {
        "id": "NzzH8uoCFAMM"
      }
    },
    {
      "cell_type": "code",
      "source": [
        "while True:\n",
        "  ingredientes = input(\"Ingresar ingredientes para la pizza: \")\n",
        "  if(ingredientes==\"salir\"):\n",
        "    break\n",
        "  print(\"Se agregará ese ingrediente a su pizza\")"
      ],
      "metadata": {
        "colab": {
          "base_uri": "https://localhost:8080/"
        },
        "id": "O4boGOIIwJR4",
        "outputId": "817a657c-13a1-492e-971f-90e56a032254"
      },
      "execution_count": 7,
      "outputs": [
        {
          "name": "stdout",
          "output_type": "stream",
          "text": [
            "Ingresar ingredientes para la pizza: asd\n",
            "Se agregará ese ingrediente a su pizza\n",
            "Ingresar ingredientes para la pizza: salir\n"
          ]
        }
      ]
    },
    {
      "cell_type": "markdown",
      "source": [
        "<b> Ejercicio 2</b>\n",
        "\n",
        "Un cine cobra diferentes precios de boletos dependiendo de la edad de una persona. Si una persona es menor de 3 años, la entrada es gratuita; si son entre 3 y 12, el boleto cuesta s/. 10; y si son mayores de 12 años, el boleto cuesta s/. 15. Escriba un ciclo en el que pregunte a los usuarios su edad y luego dígales el costo de su boleto de cine."
      ],
      "metadata": {
        "id": "ATFL1LTaFDoF"
      }
    },
    {
      "cell_type": "code",
      "source": [
        "while(True):\n",
        "  print(\"Ingrese 0 para salir\")\n",
        "  edad = int(input(\"Ingrese la edad: \"))\n",
        "  if(edad>=3 and edad<=12):\n",
        "    print(\"El boleto cuesta S/.10\")\n",
        "  elif(edad>12):\n",
        "    print(\"El boleto cuesta S/.15\")\n",
        "  elif(edad==0):\n",
        "    break"
      ],
      "metadata": {
        "colab": {
          "base_uri": "https://localhost:8080/"
        },
        "id": "FTOE9tswx8O-",
        "outputId": "9f1f6796-3051-4ee5-f599-010288648183"
      },
      "execution_count": 52,
      "outputs": [
        {
          "name": "stdout",
          "output_type": "stream",
          "text": [
            "Ingrese 0 para salir\n",
            "Ingrese la edad: 10\n",
            "El boleto cuesta S/.10\n",
            "Ingrese 0 para salir\n",
            "Ingrese la edad: 15\n",
            "El boleto cuesta S/.15\n",
            "Ingrese 0 para salir\n",
            "Ingrese la edad: 0\n"
          ]
        }
      ]
    },
    {
      "cell_type": "markdown",
      "source": [
        "# 3. Sentencia For"
      ],
      "metadata": {
        "id": "wGafafRIF6Bz"
      }
    },
    {
      "cell_type": "markdown",
      "source": [
        "### Olvidando la identación"
      ],
      "metadata": {
        "id": "C1qC64EEHDM-"
      }
    },
    {
      "cell_type": "markdown",
      "source": [
        "<b> Ejercicio 1</b>\n",
        "\n",
        "\n",
        "Piensa en al menos tres tipos de tu pizza favorita. Almacene estos nombres de pizza en una lista y luego use un ciclo for para imprimir el nombre de cada pizza.\n",
        "\n",
        "Modifique su ciclo for para imprimir una oración usando el nombre de la pizza en lugar de imprimir solo el nombre de la pizza. Para cada pizza, debe tener una línea de salida que contenga una declaración simple como Me gusta la pizza de pepperoni.\n",
        "Agregue una línea al final de su programa, fuera del bucle for, que indique cuánto le gusta la pizza. El resultado debe constar de tres o más líneas sobre los tipos de pizza que te gustan y luego una oración adicional, como ¡Me encanta la pizza!\n"
      ],
      "metadata": {
        "id": "FHwT_HI5Hedh"
      }
    },
    {
      "cell_type": "code",
      "source": [
        "lista_pizza = ['Pizza de pepperoni','Pizza hawaiana','Pizza margarita']\n",
        "for pizza in lista_pizza:\n",
        "  print(pizza)\n",
        "for pizza in lista_pizza:\n",
        "  print(f\"Me gusta la {pizza}\")\n",
        "\n",
        "print(\"\\nMe gusta la pizza de pizza hawaiana porque combina el sabor de dulce de la piña y el sabor salado de la pizza con el queso. \\nLa pizza de pepperoni me gusta porque tiene un pequeño sabor ahumado. \\nLa Pizza margarita me gusta porque tiene una poca variedad de ingredientes y por ser una pizza simple. \")\n",
        "print(\"!Me encanta la pizza!\")\n",
        "  #  "
      ],
      "metadata": {
        "colab": {
          "base_uri": "https://localhost:8080/"
        },
        "id": "-MptTwCS0cXy",
        "outputId": "86545da3-5594-4230-c7dd-49176853da13"
      },
      "execution_count": 20,
      "outputs": [
        {
          "output_type": "stream",
          "name": "stdout",
          "text": [
            "Pizza de pepperoni\n",
            "Pizza hawaiana\n",
            "Pizza margarita\n",
            "Me gusta la Pizza de pepperoni\n",
            "Me gusta la Pizza hawaiana\n",
            "Me gusta la Pizza margarita\n",
            "\n",
            "Me gusta la pizza de pizza hawaiana porque combina el sabor de dulce de la piña y el sabor salado de la pizza con el queso. \n",
            "La pizza de pepperoni me gusta porque tiene un pequeño sabor ahumado. \n",
            "La Pizza margarita me gusta porque tiene una poca variedad de ingredientes y por ser una pizza simple. \n",
            "!Me encanta la pizza!\n"
          ]
        }
      ]
    },
    {
      "cell_type": "markdown",
      "source": [
        "<b> Ejercicio 2</b>\n",
        "\n",
        "Piensa en al menos tres animales diferentes que tengan una característica común. Guarde los nombres de estos animales en una lista y luego use un ciclo for para imprimir el nombre de cada animal.\n",
        "\n",
        "Modifique su programa para imprimir una declaración sobre cada animal, como Un perro sería una gran mascota.\n",
        "Agregue una línea al final de su programa indicando lo que estos animales tienen en común. Podría escribir una oración como ¡Cualquiera de estos animales sería una gran mascota!"
      ],
      "metadata": {
        "id": "CBNrK6wXHnEm"
      }
    },
    {
      "cell_type": "code",
      "source": [
        "lista_animales = ['Perro','Gato','Loro']\n",
        "for animal in lista_animales:\n",
        "  print(f\"{animal} sería una gran mascota.\")\n",
        "print(\"¡Esto animales serian muy buenas mascotas!\")\n",
        "# "
      ],
      "metadata": {
        "colab": {
          "base_uri": "https://localhost:8080/"
        },
        "id": "8aH4CU153itu",
        "outputId": "7e2db2da-fbe7-470c-fe6c-2845654d4178"
      },
      "execution_count": 24,
      "outputs": [
        {
          "output_type": "stream",
          "name": "stdout",
          "text": [
            "Perro sería una gran mascota.\n",
            "Gato sería una gran mascota.\n",
            "Loro sería una gran mascota.\n",
            "¡Esto animales serian muy buenas mascotas!\n"
          ]
        }
      ]
    },
    {
      "cell_type": "markdown",
      "source": [
        "<h1 align=center><font size = 5>UNIDAD III - FUNCIONES\n",
        "</font></h1>\n",
        "\n",
        "---"
      ],
      "metadata": {
        "id": "OVQ2JpIkXhGH"
      }
    },
    {
      "cell_type": "markdown",
      "source": [
        "#2. Usando información dentro de funciones"
      ],
      "metadata": {
        "id": "p7e7CUC_YjWU"
      }
    },
    {
      "cell_type": "markdown",
      "source": [
        "---\n",
        "\n",
        "<b> Ejercicio 1</b>\n",
        "\n",
        "Escriba una función llamada **display_message()** que imprima una oración que diga a todos lo que está aprendiendo en este capítulo. Llame a la función y asegúrese de que el mensaje se muestre correctamente.\n"
      ],
      "metadata": {
        "id": "D8I5O9AjZgLY"
      }
    },
    {
      "cell_type": "code",
      "source": [
        "def display_message():\n",
        "  \"\"\"imprimir una oración que diga a todos lo que está aprendiendo en este capítulo\"\"\"\n",
        "  print(\"Estamos aprendiendo de funciones en Python!!!\")\n",
        "display_message()"
      ],
      "metadata": {
        "id": "R0aZ-TvoVoPW",
        "colab": {
          "base_uri": "https://localhost:8080/"
        },
        "outputId": "3abb2c4b-0f5a-4fa8-a044-3cdb2a1daa0b"
      },
      "execution_count": 27,
      "outputs": [
        {
          "output_type": "stream",
          "name": "stdout",
          "text": [
            "Estamos aprendiendo de funciones en Python!!!\n"
          ]
        }
      ]
    },
    {
      "cell_type": "code",
      "source": [
        "def display_message():\n",
        "  return \"Estamos aprendiendo Python - Clase 4\"\n",
        "message = display_message()\n",
        "print(message)"
      ],
      "metadata": {
        "colab": {
          "base_uri": "https://localhost:8080/"
        },
        "id": "32QzlLx_q0Dp",
        "outputId": "7213f3e9-1cec-4416-83b5-b79dfc34bc9b"
      },
      "execution_count": 28,
      "outputs": [
        {
          "output_type": "stream",
          "name": "stdout",
          "text": [
            "Estamos aprendiendo Python - Clase 4\n"
          ]
        }
      ]
    },
    {
      "cell_type": "markdown",
      "source": [
        "---\n",
        "\n",
        "<b> Ejercicio 2</b>\n",
        "\n",
        "Escriba una función llamada **favorite_book()** que acepte un parámetro, título. La función debe imprimir un mensaje, como Uno de mis libros favoritos es Alicia en el país de las maravillas. Llame a la función, asegurándose de incluir el título de un libro como argumento en la llamada a la función.\n",
        "\n",
        "---"
      ],
      "metadata": {
        "id": "hk_i1gS_bvyv"
      }
    },
    {
      "cell_type": "code",
      "source": [
        "def favorite_book(bookname):\n",
        "  \"\"\"Este codigo imprime mi libro favorito\"\"\"\n",
        "  print(f'Uno de mis libros favoritos es {bookname}')\n",
        "favorite_book('El principito')\n"
      ],
      "metadata": {
        "id": "BRy_yROXVpdr",
        "colab": {
          "base_uri": "https://localhost:8080/"
        },
        "outputId": "5f1165fc-b7c4-47f9-add7-67fbe2bab565"
      },
      "execution_count": 32,
      "outputs": [
        {
          "output_type": "stream",
          "name": "stdout",
          "text": [
            "Uno de mis libros favoritos es El principito\n"
          ]
        }
      ]
    },
    {
      "cell_type": "markdown",
      "source": [
        "### Evitar errores de argumento"
      ],
      "metadata": {
        "id": "21XnPX-tssX5"
      }
    },
    {
      "cell_type": "markdown",
      "source": [
        "---\n",
        "\n",
        "<b> Ejercicio 1</b>\n",
        "\n",
        "Escribe una función llamada **make_shirt()** que acepte un tamaño y el texto de un mensaje que debería estar impreso en la camiseta. La función debe imprimir una oración que resuma el tamaño de la camisa y el mensaje impreso en ella.\n",
        "\n",
        "Llame a la función una vez usando argumentos posicionales para hacer una camisa. Llame a la función por segunda vez usando argumentos de palabras clave.\n"
      ],
      "metadata": {
        "id": "ixT6ac8IrM_m"
      }
    },
    {
      "cell_type": "code",
      "source": [
        "def make_shirt(tamano,mensaje):\n",
        "  return f\"Tamaño de la camiseta: {tamano} \\nMensaje: {mensaje} \"\n",
        "print(make_shirt(\"L\",\"LA U\"))"
      ],
      "metadata": {
        "id": "-qPPkwCywiIQ",
        "colab": {
          "base_uri": "https://localhost:8080/"
        },
        "outputId": "f9e3f703-cb69-4357-914e-5fd5aa806ebd"
      },
      "execution_count": 33,
      "outputs": [
        {
          "output_type": "stream",
          "name": "stdout",
          "text": [
            "Tamaño de la camiseta: L \n",
            "Mensaje: LA U \n"
          ]
        }
      ]
    },
    {
      "cell_type": "markdown",
      "source": [
        "---\n",
        "\n",
        "<b> Ejercicio 2</b>\n",
        "\n",
        "Modifique la función **make_shirt()** para que las camisetas sean grandes por defecto con un mensaje que diga Me encanta Python. Haz una camiseta grande y una camiseta mediana con el mensaje predeterminado y una camiseta de cualquier tamaño con un mensaje diferente.\n"
      ],
      "metadata": {
        "id": "SFKpbJpntvpg"
      }
    },
    {
      "cell_type": "code",
      "source": [
        "def make_shirt(tamano=\"L\",mensaje=\"Me encanta Python\"):\n",
        "  return f\"Tamaño de la camiseta: {tamano} \\nMensaje: {mensaje} \"\n",
        "print(make_shirt())\n",
        "print(make_shirt(\"M\"))\n",
        "print(make_shirt(\"XL\",'Barcelona'))"
      ],
      "metadata": {
        "colab": {
          "base_uri": "https://localhost:8080/"
        },
        "id": "EpW2k2sp5E_t",
        "outputId": "b2a29d3e-d821-48f7-eb8c-84b121dfce7a"
      },
      "execution_count": 37,
      "outputs": [
        {
          "output_type": "stream",
          "name": "stdout",
          "text": [
            "Tamaño de la camiseta: L \n",
            "Mensaje: Me encanta Python \n",
            "Tamaño de la camiseta: M \n",
            "Mensaje: Me encanta Python \n",
            "Tamaño de la camiseta: XL \n",
            "Mensaje: Barcelona \n"
          ]
        }
      ]
    },
    {
      "cell_type": "markdown",
      "source": [
        "---\n",
        "\n",
        "<b> Ejercicio 3</b>\n",
        "\n",
        "Escribe una función llamada **describe_city()** que acepte el nombre de una ciudad y su país. La función debe imprimir una oración simple, como Reykjavik está en Islandia. Asigne al parámetro para el país un valor predeterminado. Llame a su función para tres ciudades diferentes, al menos una de las cuales no se encuentra en el país predeterminado.\n",
        "\n",
        "----"
      ],
      "metadata": {
        "id": "G0qpoz40uBJt"
      }
    },
    {
      "cell_type": "code",
      "source": [
        "def describe_city(ciudad, pais = 'Perú'):\n",
        "  \"\"\"Esta funcion muestra una ciudad y su pais\"\"\"\n",
        "  print(f'{ciudad} esta en {pais}')\n",
        "describe_city('Lima')\n",
        "describe_city('Barcelona','España')\n",
        "describe_city('Buenos aires','Argentina')"
      ],
      "metadata": {
        "id": "wYkmaCJTgYzQ",
        "colab": {
          "base_uri": "https://localhost:8080/"
        },
        "outputId": "2f7131e9-d9b6-4e03-d1eb-8f5dd4a4dca2"
      },
      "execution_count": 39,
      "outputs": [
        {
          "output_type": "stream",
          "name": "stdout",
          "text": [
            "Lima esta en Perú\n",
            "Barcelona esta en España\n",
            "Buenos aires esta en Argentina\n"
          ]
        }
      ]
    },
    {
      "cell_type": "markdown",
      "source": [
        "# 4. Usando funciones con loops while"
      ],
      "metadata": {
        "id": "tSAkV-as0rdS"
      }
    },
    {
      "cell_type": "markdown",
      "source": [
        "---\n",
        "\n",
        "<b> Ejercicio 1</b>\n",
        "\n",
        "Escribe una función llamada **city_country()** que tome el nombre de una ciudad y su país. La función debería devolver una cadena con el formato siguiente:\n",
        "\n",
        "\"Santiago, Chile\"\n",
        "\n",
        "Llame a su función con al menos tres pares de ciudades y países e imprima los valores que se devuelven.\n"
      ],
      "metadata": {
        "id": "WtFtOrbS4BzE"
      }
    },
    {
      "cell_type": "code",
      "source": [
        "def city_country(ciudades, paises):\n",
        "   \"\"\" retorna paises y ciudades\"\"\"\n",
        "   full_city = f\" {ciudades}, {paises} \"\n",
        "   return full_city.title()\n",
        "\n",
        "while True:\n",
        "   print(\"Escriba quit si desea salir\")\n",
        "\n",
        "   f_ciudades = input(\"Ciudad: \")\n",
        "   if f_ciudades =='quit':\n",
        "       break\n",
        "\n",
        "   f_paises = input(\"Pais: \")\n",
        "   if f_paises == 'quit':\n",
        "       break\n",
        "   city_completed = city_country(f_ciudades, f_paises)\n",
        "   print(f\"{city_completed}\")\n"
      ],
      "metadata": {
        "id": "WSb8L5D2yJwU",
        "colab": {
          "base_uri": "https://localhost:8080/"
        },
        "outputId": "d1de054c-3674-404a-b4e6-06c54b109537"
      },
      "execution_count": 45,
      "outputs": [
        {
          "name": "stdout",
          "output_type": "stream",
          "text": [
            "Escriba quit si desea salir\n",
            "Ciudad: Lima\n",
            "Pais: Peru\n",
            " Lima, Peru \n",
            "Escriba quit si desea salir\n",
            "Ciudad: quit\n"
          ]
        }
      ]
    },
    {
      "cell_type": "markdown",
      "source": [
        "---\n",
        "\n",
        "<b> Ejercicio 2</b>\n",
        "\n",
        "Escriba una función llamada **make_album()** que cree un diccionario que describa un álbum de música. La función debe tomar el nombre de un artista y el título de un álbum, y debe devolver un diccionario que contenga estos dos datos. Utilice la función para crear tres diccionarios que representen diferentes álbumes. Imprima cada valor devuelto para mostrar que los diccionarios están almacenando la información del álbum correctamente.\n",
        "\n",
        "Use <b>None</b> para agregar un parámetro opcional a **make_album()** que le permita almacenar la cantidad de canciones en un álbum. Si la línea de llamada incluye un valor para la cantidad de canciones, agregue ese valor al diccionario del álbum. Realice al menos una nueva llamada de función que incluya la cantidad de canciones en un álbum."
      ],
      "metadata": {
        "id": "z06Pz7sy4YG0"
      }
    },
    {
      "cell_type": "code",
      "source": [
        "def make_album(name,title,numbersSongs=None):\n",
        "  \"\"\"devuelve el nombre del artista y el titulo del album \"\"\"\n",
        "  diccionario = {\n",
        "      'nombre':name,\n",
        "      'titulo':title,\n",
        "  }\n",
        "  if numbersSongs:\n",
        "    diccionario['cantidad'] = numbersSongs\n",
        "  return diccionario\n",
        "\n",
        "primer = make_album(\"Michael Jackson\",\"Thriller\",9)\n",
        "segundo = make_album(\"Shakira\",\"Loba\")\n",
        "tercer = make_album(\"Aventura\",\"The Last\",18)\n",
        "print(primer)\n",
        "print(segundo)\n",
        "print(tercer)"
      ],
      "metadata": {
        "id": "1-ywVBKsWDwv",
        "colab": {
          "base_uri": "https://localhost:8080/"
        },
        "outputId": "49e8b5c2-52a9-4b3d-a473-c76ac5a278b5"
      },
      "execution_count": 42,
      "outputs": [
        {
          "output_type": "stream",
          "name": "stdout",
          "text": [
            "{'nombre': 'Michael Jackson', 'titulo': 'Thriller', 'cantidad': 9}\n",
            "{'nombre': 'Shakira', 'titulo': 'Loba'}\n",
            "{'nombre': 'Aventura', 'titulo': 'The Last', 'cantidad': 18}\n"
          ]
        }
      ]
    },
    {
      "cell_type": "markdown",
      "source": [
        "---\n",
        "\n",
        "<b> Ejercicio 3</b>\n",
        "\n",
        "Comience con su programa del ejercicio anterior. Escriba un ciclo while que permita a los usuarios ingresar el artista y el título de un álbum. Una vez que tenga esa información, llame a **make_album()** con la entrada del usuario e imprima el diccionario que se crea. Asegúrese de incluir un valor de salida en el ciclo while.\n",
        "\n",
        "---"
      ],
      "metadata": {
        "id": "5iazrd6w5n-m"
      }
    },
    {
      "cell_type": "code",
      "source": [
        "while True:\n",
        "  nombre = input(\"Ingrese el nombre del artista: \")\n",
        "  if nombre==\"salir\":\n",
        "    break\n",
        "  album = input(\"Ingrese el album del artista: \")\n",
        "  if album==\"salir\":\n",
        "    break\n",
        "  diccionario = make_album(nombre,album)\n",
        "  print(diccionario)"
      ],
      "metadata": {
        "id": "rDQggO-OXrqf",
        "colab": {
          "base_uri": "https://localhost:8080/"
        },
        "outputId": "69322934-f6c0-42a4-da35-16cf43f6d8f2"
      },
      "execution_count": 44,
      "outputs": [
        {
          "name": "stdout",
          "output_type": "stream",
          "text": [
            "Ingrese el nombre del artista: Michael Jackson\n",
            "Ingrese el album del artista: Thriller\n",
            "{'nombre': 'Michael Jackson', 'titulo': 'Thriller'}\n",
            "Ingrese el nombre del artista: salir\n"
          ]
        }
      ]
    },
    {
      "cell_type": "markdown",
      "source": [
        "# 5. Usando Listas"
      ],
      "metadata": {
        "id": "pdvnfTPo6-Lq"
      }
    },
    {
      "cell_type": "markdown",
      "source": [
        "### Modificar una lista en una función"
      ],
      "metadata": {
        "id": "irQJwQco81wH"
      }
    },
    {
      "cell_type": "markdown",
      "source": [
        "---\n",
        "\n",
        "<b> Ejercicio 1</b>\n",
        "\n",
        "Haz una lista que contenga una serie de mensajes de texto cortos. Pase la lista a una función llamada **show_messages()**, que imprime cada mensaje de texto.\n"
      ],
      "metadata": {
        "id": "AxoQ8UkPLzhr"
      }
    },
    {
      "cell_type": "code",
      "source": [
        "def show_messages(lista):\n",
        "  for mensaje in lista:\n",
        "    print(mensaje)\n",
        "lista_mensajes = ['Estoy programando','Aprendo python','Aprender python es divertido']\n",
        "show_messages(lista_mensajes)"
      ],
      "metadata": {
        "colab": {
          "base_uri": "https://localhost:8080/"
        },
        "id": "_vVPYKED8nZ_",
        "outputId": "0d87222a-6ba0-46cf-8218-bee843786cce"
      },
      "execution_count": 66,
      "outputs": [
        {
          "output_type": "stream",
          "name": "stdout",
          "text": [
            "Estoy programando\n",
            "Aprendo python\n",
            "Aprender python es divertido\n"
          ]
        }
      ]
    },
    {
      "cell_type": "markdown",
      "source": [
        "\n",
        "<b> Ejercicio 2</b>\n",
        "\n",
        "Comience con una copia de su programa del Ejercicio anterior. Escriba una función llamada **send_messages()** que imprima cada mensaje de texto y mueva cada mensaje a una nueva lista llamada sent_messages a medida que se imprime. Después de llamar a la función, imprima ambas listas para asegurarse de que los mensajes se movieron correctamente."
      ],
      "metadata": {
        "id": "cr6vkbj-L_4Q"
      }
    },
    {
      "cell_type": "code",
      "source": [
        "def show_messages(lista):\n",
        "  for mensaje in lista:\n",
        "    print(mensaje)\n",
        "\n",
        "def send_messages(lista,nueva_lista):\n",
        "  for mensaje in lista:\n",
        "    nueva_lista.append(mensaje)\n",
        "lista_mensajes = ['Estoy programando','Aprendo python','Aprender python es divertido']\n",
        "sent_messages = []\n",
        "send_messages(lista_mensajes,sent_messages)\n",
        "print(\"_Lista anterior\")\n",
        "show_messages(lista_mensajes)\n",
        "print(\"_Nueva lista\")\n",
        "show_messages(sent_messages)\n"
      ],
      "metadata": {
        "colab": {
          "base_uri": "https://localhost:8080/"
        },
        "id": "0dhsJLms_pFj",
        "outputId": "2d5e627d-53ec-46e1-ac77-17938de4d7f6"
      },
      "execution_count": 81,
      "outputs": [
        {
          "output_type": "stream",
          "name": "stdout",
          "text": [
            "_Lista anterior\n",
            "Estoy programando\n",
            "Aprendo python\n",
            "Aprender python es divertido\n",
            "_Nueva lista\n",
            "Estoy programando\n",
            "Aprendo python\n",
            "Aprender python es divertido\n"
          ]
        }
      ]
    },
    {
      "cell_type": "markdown",
      "source": [
        "---\n",
        "\n",
        "<b> Ejercicio 3</b>\n",
        "\n",
        "Comience con su trabajo del Ejercicio anterior. Llame a la función **send_messages()** con una copia de la lista de mensajes. Después de llamar a la función, imprima ambas listas para mostrar que la lista original ha conservado sus mensajes.\n",
        "\n",
        "---"
      ],
      "metadata": {
        "id": "DeKTopX9McDP"
      }
    },
    {
      "cell_type": "code",
      "source": [
        "copia_lista_mensajes = ['Estoy programando','Aprendo python','Aprender python es divertido']\n",
        "\n",
        "send_messages(lista_mensajes,copia_lista_mensajes)\n",
        "print(\"_Lista anterior\")\n",
        "show_messages(lista_mensajes)\n",
        "print(\"_Nueva lista\")\n",
        "show_messages(copia_lista_mensajes)\n"
      ],
      "metadata": {
        "colab": {
          "base_uri": "https://localhost:8080/"
        },
        "id": "c2QQWjxrCPeP",
        "outputId": "e32d63e5-58c1-4e1d-9bbb-485521265922"
      },
      "execution_count": 82,
      "outputs": [
        {
          "output_type": "stream",
          "name": "stdout",
          "text": [
            "_Lista anterior\n",
            "Estoy programando\n",
            "Aprendo python\n",
            "Aprender python es divertido\n",
            "_Nueva lista\n",
            "Estoy programando\n",
            "Aprendo python\n",
            "Aprender python es divertido\n",
            "Estoy programando\n",
            "Aprendo python\n",
            "Aprender python es divertido\n"
          ]
        }
      ]
    },
    {
      "cell_type": "markdown",
      "source": [
        "# 6. Pasar un número arbitrario de argumentos"
      ],
      "metadata": {
        "id": "Wnme938ANSqz"
      }
    },
    {
      "cell_type": "markdown",
      "source": [
        "### Uso de argumentos de palabras clave arbitrarias"
      ],
      "metadata": {
        "id": "N6DxNYhpO_PL"
      }
    },
    {
      "cell_type": "markdown",
      "source": [
        "---\n",
        "\n",
        "<b> Ejercicio 1</b>\n",
        "\n",
        "Escribe una función que acepte una lista de artículos que una persona quiere en un sándwich. La función debe tener un parámetro que recopile tantos elementos como proporcione la llamada a la función, y debe imprimir un resumen del sándwich que se está ordenando. Llame a la función tres veces, usando un número diferente de argumentos cada vez."
      ],
      "metadata": {
        "id": "0kYhXVPvQSh_"
      }
    },
    {
      "cell_type": "code",
      "source": [
        "def make_sandwich(*toppings):\n",
        "  \"\"\"Esta función muestra los ingredientes del sandwich\"\"\"\n",
        "  print('\\nEl sandwich contiene los siguientes toppings:')\n",
        "  for topping in toppings:\n",
        "    print(f'- {topping}')  \n",
        "make_sandwich('Queso', 'Doble jamón', 'papas')\n",
        "make_sandwich('Queso', 'Doble jamón', 'papas','lechuga')\n",
        "make_sandwich('Queso', 'Doble jamón')\n"
      ],
      "metadata": {
        "id": "rDcNXtPv8we_"
      },
      "execution_count": 84,
      "outputs": []
    },
    {
      "cell_type": "markdown",
      "source": [
        "---\n",
        "\n",
        "<b> Ejercicio 2</b>\n",
        "\n",
        "Comience con una copia de **user_profile** de ***Uso de argumentos de palabras clave arbitrarias***. Cree un perfil de usted mismo llamando a **build_profile()**, usando su nombre y apellido y otros tres pares clave-valor que lo describan."
      ],
      "metadata": {
        "id": "NXvPqgVZQcx9"
      }
    },
    {
      "cell_type": "code",
      "source": [
        "def build_profile1(nombre,apellido,**descripcion):\n",
        "  '''Esta funcion retorna un diccionario con los valores ingresados '''\n",
        "  descripcion['nombre'] = nombre\n",
        "  descripcion['apellido'] = apellido\n",
        "  return descripcion\n",
        "user_profile = build_profile1(\"alonso\",\"huanasca\",altura=\"1.68\",edad=\"22\",location=\"Peru\")\n",
        "print(user_profile)"
      ],
      "metadata": {
        "colab": {
          "base_uri": "https://localhost:8080/"
        },
        "id": "Iyl5y88oWn04",
        "outputId": "8aa946c7-dd6d-4608-f69f-c1d05f76c21e"
      },
      "execution_count": 86,
      "outputs": [
        {
          "output_type": "stream",
          "name": "stdout",
          "text": [
            "{'altura': '1.68', 'edad': '22', 'location': 'Peru', 'nombre': 'alonso', 'apellido': 'huanasca'}\n"
          ]
        }
      ]
    },
    {
      "cell_type": "markdown",
      "source": [
        "---\n",
        "\n",
        "<b> Ejercicio 3</b>\n",
        "\n",
        "Escribe una función que almacene información sobre un automóvil en un diccionario. La función siempre debe recibir un fabricante y un nombre de modelo. Entonces debería aceptar un número arbitrario de argumentos de palabras clave. Llame a la función con la información requerida y otros dos pares de nombre y valor, como un color o una función opcional. Su función debería funcionar para una llamada como esta:\n",
        "\n",
        "coche = **make_car**('subaru', 'outback', color='blue', tow_package=True)\n",
        "\n",
        "Imprima el diccionario que se devuelve para asegurarse de que toda la información se almacenó correctamente.\n",
        "\n",
        "---"
      ],
      "metadata": {
        "id": "gpj7y6NYQjLq"
      }
    },
    {
      "cell_type": "code",
      "source": [
        "def make_car(fabricante,nombreModelo,**detalles):\n",
        "  detalles['fabricante'] = fabricante\n",
        "  detalles['nombreModelo'] = nombreModelo\n",
        "  return detalles\n",
        "coche = make_car('subaru', 'outback', color='blue', tow_package=True)\n",
        "print(coche)"
      ],
      "metadata": {
        "colab": {
          "base_uri": "https://localhost:8080/"
        },
        "id": "xKjBk-AnDgGm",
        "outputId": "6b477840-9378-454d-a5ee-f67972b1e6e4"
      },
      "execution_count": 87,
      "outputs": [
        {
          "output_type": "stream",
          "name": "stdout",
          "text": [
            "{'color': 'blue', 'tow_package': True, 'fabricante': 'subaru', 'nombreModelo': 'outback'}\n"
          ]
        }
      ]
    },
    {
      "cell_type": "markdown",
      "source": [
        "# 8. Introducción a Clases"
      ],
      "metadata": {
        "id": "zl5-pV1XfXi1"
      }
    },
    {
      "cell_type": "markdown",
      "source": [
        "---\n",
        "\n",
        "<b> Ejercicio 1</b>\n",
        "\n",
        "Haz una clase llamada Restaurante. El método __init__() para Restaurante debe almacenar dos atributos: un nombre_restaurante y un tipo_cocina. Cree un método llamado describe_restaurant() que imprima estos dos datos y un método llamado open_restaurant() que imprima un mensaje que indique que el restaurante está abierto.\n",
        "\n",
        "Cree una instancia llamada restaurante de su clase. Imprima los dos atributos individualmente y luego llame a ambos métodos."
      ],
      "metadata": {
        "id": "kp8q0QVDgqkZ"
      }
    },
    {
      "cell_type": "code",
      "source": [
        "class restaurante :\n",
        "  def __init__(self,name_restaurant,type_cuisine):\n",
        "    '''Esta funcion tiene como objetivo servir a los restaurante '''\n",
        "    self.name = name_restaurant\n",
        "    self.type_cuisine = type_cuisine\n",
        "  def describe_restaurant(self):\n",
        "    ''''''\n",
        "    print(f\"El restaurante {self.name} especializado en comida {self.type_cuisine}\")\n",
        "  def open_restaurant(self):\n",
        "    ''''''\n",
        "    print(\"El restaurante esta abierto.\")\n",
        "\n",
        "\n",
        "my_class = restaurante(\"nombre restaurante\",\"comida peruana\")\n",
        "my_class.describe_restaurant()"
      ],
      "metadata": {
        "colab": {
          "base_uri": "https://localhost:8080/"
        },
        "id": "XqtwzApYi7js",
        "outputId": "20cc5832-8d73-4999-87bd-1bb90e8e0251"
      },
      "execution_count": 88,
      "outputs": [
        {
          "output_type": "stream",
          "name": "stdout",
          "text": [
            "El restaurante nombre restaurante especializado en comida comida peruana\n"
          ]
        }
      ]
    },
    {
      "cell_type": "markdown",
      "source": [
        "---\n",
        "\n",
        "<b> Ejercicio 2</b>\n",
        "\n",
        "Comience con su clase del Ejercicio anterior. Cree tres instancias diferentes de la clase y llame a **describe_restaurant**() para cada instancia."
      ],
      "metadata": {
        "id": "uD1V4MnYgxO2"
      }
    },
    {
      "cell_type": "code",
      "source": [
        "my_rest1 = restaurante('Gaston Acurio', 'Criolla')\n",
        "my_rest2 = restaurante('Señor Limon', 'Marina')\n",
        "my_rest3 = restaurante('Charrua', 'Carnes')"
      ],
      "metadata": {
        "id": "_OeMpa-OCCIm"
      },
      "execution_count": 89,
      "outputs": []
    },
    {
      "cell_type": "code",
      "source": [
        "my_rest1.describe_restaurant() "
      ],
      "metadata": {
        "id": "cbxcp9m8CNNF",
        "outputId": "50a1ca19-d2c5-4aed-a451-a3e85639b98d",
        "colab": {
          "base_uri": "https://localhost:8080/"
        }
      },
      "execution_count": 90,
      "outputs": [
        {
          "output_type": "stream",
          "name": "stdout",
          "text": [
            "El restaurante Gaston Acurio especializado en comida Criolla\n"
          ]
        }
      ]
    },
    {
      "cell_type": "code",
      "source": [
        "my_rest2.describe_restaurant() "
      ],
      "metadata": {
        "id": "qiLUedoKCRGo",
        "colab": {
          "base_uri": "https://localhost:8080/"
        },
        "outputId": "189da080-b390-4467-9be2-35b8570b95fd"
      },
      "execution_count": 91,
      "outputs": [
        {
          "output_type": "stream",
          "name": "stdout",
          "text": [
            "El restaurante Señor Limon especializado en comida Marina\n"
          ]
        }
      ]
    },
    {
      "cell_type": "code",
      "source": [
        "my_rest3.describe_restaurant()"
      ],
      "metadata": {
        "colab": {
          "base_uri": "https://localhost:8080/"
        },
        "id": "5kuaD1nSk4JW",
        "outputId": "e2b63513-8cc5-4214-8435-0cd4accc5ac3"
      },
      "execution_count": 92,
      "outputs": [
        {
          "output_type": "stream",
          "name": "stdout",
          "text": [
            "El restaurante Charrua especializado en comida Carnes\n"
          ]
        }
      ]
    },
    {
      "cell_type": "code",
      "source": [
        "my_rest3.open_restaurant()"
      ],
      "metadata": {
        "colab": {
          "base_uri": "https://localhost:8080/"
        },
        "id": "iv6qjK4wk8Ny",
        "outputId": "5899aa7e-ec28-4ddd-8739-28a09242d2ca"
      },
      "execution_count": 93,
      "outputs": [
        {
          "output_type": "stream",
          "name": "stdout",
          "text": [
            "El restaurante esta abierto.\n"
          ]
        }
      ]
    },
    {
      "cell_type": "markdown",
      "source": [
        "---\n",
        "\n",
        "<b> Ejercicio 3</b>\n",
        "\n",
        "Haz una clase llamada Usuario. Cree dos atributos llamados **first_name** y **last_name**, y luego cree varios otros atributos que normalmente se almacenan en un perfil de usuario. Cree un método llamado **describe_user**() que imprima un resumen de la información del usuario. Cree otro método llamado **greeting_user**() que imprima un saludo personalizado para el usuario.\n",
        "\n",
        "Cree varias instancias que representen a diferentes usuarios y llame a ambos métodos para cada usuario.\n",
        "\n",
        "---"
      ],
      "metadata": {
        "id": "PlqVFUueg2QI"
      }
    },
    {
      "cell_type": "code",
      "source": [
        "class Usuario:\n",
        "  def __init__(self,first_name,last_name,edad,fecha_nacimiento):\n",
        "    self.first_name = first_name\n",
        "    self.last_name = last_name\n",
        "    self.edad = edad\n",
        "    self.fecha_nacimiento = fecha_nacimiento\n",
        "  def describe_user(self):\n",
        "    print(\"Informacion del Usuario:\")\n",
        "    print(f\"Nombres: {self.first_name}\")\n",
        "    print(f\"Apellidos: {self.last_name}\")\n",
        "    print(f\"Edad: {self.edad}\")\n",
        "    print(f\"Fecha de nacimiento: {self.fecha_nacimiento}\")\n",
        "  def greeting_user(self):\n",
        "    print(f\"Bienvenido al curso de Python {self.first_name} {self.last_name}\")\n",
        "\n",
        "usuario1 = Usuario(\"Alexander Alonso\",\"Huanasca Mansilla\",\"22\",'05/09/1999')\n",
        "usuario2 = Usuario(\"Leonardo Adolfo\",\"Huanasca Mansilla\",\"20\",'06/09/2001')\n",
        "usuario1.describe_user()\n",
        "usuario1.greeting_user()\n",
        "\n",
        "usuario2.describe_user()\n",
        "usuario2.greeting_user()"
      ],
      "metadata": {
        "colab": {
          "base_uri": "https://localhost:8080/"
        },
        "id": "TrgJcIV1FRAb",
        "outputId": "d5fe5dce-ac37-4904-d5c8-ca8ab2dceda7"
      },
      "execution_count": 98,
      "outputs": [
        {
          "output_type": "stream",
          "name": "stdout",
          "text": [
            "Informacion del Usuario:\n",
            "Nombres: Alexander Alonso\n",
            "Apellidos: Huanasca Mansilla\n",
            "Edad: 22\n",
            "Fecha de nacimiento: 05/09/1999\n",
            "Bienvenido al curso de Python Alexander Alonso Huanasca Mansilla\n",
            "Informacion del Usuario:\n",
            "Nombres: Leonardo Adolfo\n",
            "Apellidos: Huanasca Mansilla\n",
            "Edad: 20\n",
            "Fecha de nacimiento: 06/09/2001\n",
            "Bienvenido al curso de Python Leonardo Adolfo Huanasca Mansilla\n"
          ]
        }
      ]
    },
    {
      "cell_type": "markdown",
      "source": [
        "<h1 align=center><font size = 5>UNIDAD IV - ESTRUCTURAS DE DATOS\n",
        "</font></h1>\n",
        "\n",
        "---"
      ],
      "metadata": {
        "id": "4p5vLlhHyXK5"
      }
    },
    {
      "cell_type": "markdown",
      "source": [
        "# 1. Trabajando con Listas numéricas"
      ],
      "metadata": {
        "id": "fY5fHyw61UB5"
      }
    },
    {
      "cell_type": "markdown",
      "source": [
        "### List Comprehensions\n"
      ],
      "metadata": {
        "id": "H68897kt3Xan"
      }
    },
    {
      "cell_type": "markdown",
      "source": [
        "---\n",
        "\n",
        "<b> Ejercicio 1</b>\n",
        "\n",
        "use un bucle **for** para imprimir los números del 1 al 20, inclusive.\n"
      ],
      "metadata": {
        "id": "v8l2iiax3w6L"
      }
    },
    {
      "cell_type": "code",
      "source": [
        "\"\"\"Imprime los numeros del 1 al 20\"\"\"\n",
        "for val in range(1,21):\n",
        "  print(val)"
      ],
      "metadata": {
        "id": "VT6gvl69htn3"
      },
      "execution_count": null,
      "outputs": []
    },
    {
      "cell_type": "markdown",
      "source": [
        "---\n",
        "\n",
        "<b> Ejercicio 2</b>\n",
        "\n",
        "Haga una lista de los números del uno al millón y luego use un ciclo for para imprimir los números. (Si la salida tarda demasiado, deténgala presionando CTRL-C o cerrando la ventana de salida).\n"
      ],
      "metadata": {
        "id": "rYzzJUd64HR1"
      }
    },
    {
      "cell_type": "code",
      "source": [
        "lista = list(range(1,1000000))\n",
        "for val in lista:\n",
        "  print(val)"
      ],
      "metadata": {
        "id": "tDR2RLzJiwjk"
      },
      "execution_count": null,
      "outputs": []
    },
    {
      "cell_type": "markdown",
      "source": [
        "---\n",
        "\n",
        "<b> Ejercicio 3</b>\n",
        "\n",
        "Haga una lista de los números del uno al millón y luego use min() y max() para asegurarse de que su lista realmente comience en uno y termine en un millón. Además, use la función sum() para ver qué tan rápido Python puede agregar un millón de números.\n"
      ],
      "metadata": {
        "id": "2qrKdPpb4chR"
      }
    },
    {
      "cell_type": "code",
      "source": [
        "lista = list(range(1,1000001))\n",
        "print(min(lista))\n",
        "print(max(lista))\n",
        "print(sum(lista))"
      ],
      "metadata": {
        "colab": {
          "base_uri": "https://localhost:8080/"
        },
        "id": "V20FvkxTlv_f",
        "outputId": "b00c4e93-9b1c-4824-b1a5-8abbd0f373bf"
      },
      "execution_count": null,
      "outputs": [
        {
          "output_type": "stream",
          "name": "stdout",
          "text": [
            "1\n",
            "1000000\n",
            "500000500000\n"
          ]
        }
      ]
    },
    {
      "cell_type": "markdown",
      "source": [
        "---\n",
        "\n",
        "<b> Ejercicio 4</b>\n",
        "\n",
        "Use el tercer argumento de la función range() para hacer una lista de los números impares del 1 al 20. Use un bucle for para imprimir cada número.\n"
      ],
      "metadata": {
        "id": "oizdiWqQ44qx"
      }
    },
    {
      "cell_type": "code",
      "source": [
        "for val in range(1,21,2):\n",
        "  print(val)"
      ],
      "metadata": {
        "colab": {
          "base_uri": "https://localhost:8080/"
        },
        "id": "SttqQBVOmEmb",
        "outputId": "721d46e0-3433-47e4-a3af-24efa883ae81"
      },
      "execution_count": null,
      "outputs": [
        {
          "output_type": "stream",
          "name": "stdout",
          "text": [
            "1\n",
            "3\n",
            "5\n",
            "7\n",
            "9\n",
            "11\n",
            "13\n",
            "15\n",
            "17\n",
            "19\n"
          ]
        }
      ]
    },
    {
      "cell_type": "markdown",
      "source": [
        "---\n",
        "\n",
        "<b> Ejercicio 5</b>\n",
        "\n",
        "Haga una lista de los múltiplos de 3 de 3 a 30. Use un ciclo for para imprimir los números en su lista.\n"
      ],
      "metadata": {
        "id": "yK9dmJJi5W6W"
      }
    },
    {
      "cell_type": "code",
      "source": [
        "lista = list(range(3,31,3))\n",
        "for val in lista:\n",
        "  print(val)"
      ],
      "metadata": {
        "colab": {
          "base_uri": "https://localhost:8080/"
        },
        "id": "aCrUBeXynWzb",
        "outputId": "997bfe22-267b-4424-c467-e6afe1b735ff"
      },
      "execution_count": null,
      "outputs": [
        {
          "output_type": "stream",
          "name": "stdout",
          "text": [
            "3\n",
            "6\n",
            "9\n",
            "12\n",
            "15\n",
            "18\n",
            "21\n",
            "24\n",
            "27\n",
            "30\n"
          ]
        }
      ]
    },
    {
      "cell_type": "markdown",
      "source": [
        "---\n",
        "\n",
        "<b> Ejercicio 6</b>\n",
        "\n",
        "Haga una lista de los primeros 10 cubos (es decir, el cubo de cada número entero del 1 al 10) y use un ciclo for para imprimir el valor de cada cubo.\n"
      ],
      "metadata": {
        "id": "qqdPT25k5d23"
      }
    },
    {
      "cell_type": "code",
      "source": [
        "lista = [value**3 for value in range(1,11)]\n",
        "for val in lista:\n",
        "  print(val)"
      ],
      "metadata": {
        "colab": {
          "base_uri": "https://localhost:8080/"
        },
        "id": "ylDnlIaeoazr",
        "outputId": "b09e0520-3bf8-490a-bf6b-4831ff3099ab"
      },
      "execution_count": null,
      "outputs": [
        {
          "output_type": "stream",
          "name": "stdout",
          "text": [
            "1\n",
            "8\n",
            "27\n",
            "64\n",
            "125\n",
            "216\n",
            "343\n",
            "512\n",
            "729\n",
            "1000\n"
          ]
        }
      ]
    },
    {
      "cell_type": "markdown",
      "source": [
        "---\n",
        "\n",
        "<b> Ejercicio 7</b>\n",
        "\n",
        "Use una lista de comprensión para generar una lista de los primeros 10 cubos.\n",
        "\n",
        "---"
      ],
      "metadata": {
        "id": "MQfhaTOo59GS"
      }
    },
    {
      "cell_type": "code",
      "source": [
        "lista = [value**3 for value in range(1,11)]\n",
        "print(lista)"
      ],
      "metadata": {
        "colab": {
          "base_uri": "https://localhost:8080/"
        },
        "id": "SbYadm2psJTr",
        "outputId": "b32a0df8-a959-4b4d-ebdb-f35d22791fd4"
      },
      "execution_count": null,
      "outputs": [
        {
          "output_type": "stream",
          "name": "stdout",
          "text": [
            "[1, 8, 27, 64, 125, 216, 343, 512, 729, 1000]\n"
          ]
        }
      ]
    },
    {
      "cell_type": "markdown",
      "source": [
        "# 2. Trabajando con slices"
      ],
      "metadata": {
        "id": "-h_22RYJ6U9R"
      }
    },
    {
      "cell_type": "markdown",
      "source": [
        "### Copiando una lista"
      ],
      "metadata": {
        "id": "jsCWYHQC8Faa"
      }
    },
    {
      "cell_type": "markdown",
      "source": [
        "---\n",
        "\n",
        "<b> Ejercicio 1</b>\n",
        "\n",
        "Utilizando alguna lista definida anteriormente:\n",
        "\n",
        "*   Imprima el mensaje **Los tres primeros elementos de la lista son:**. Luego use un slice para imprimir los primeros tres elementos de la lista de ese programa.\n",
        "\n",
        "*   Imprima el mensaje **Tres elementos de la mitad de la lista son:**. Use un slice para imprimir tres elementos del medio de la lista.\n",
        "\n",
        "*   Imprima el mensaje **Los últimos tres elementos de la lista son:**. Utilice un slice para imprimir los últimos tres elementos de la lista."
      ],
      "metadata": {
        "id": "H30p04iC93Ma"
      }
    },
    {
      "cell_type": "code",
      "source": [
        "my_foods = ['pizza', 'falafel', 'carrot cake']\n",
        "print(\"Los tres primeros elementos de la lista son:\")\n",
        "print(my_foods[:3])\n",
        "print(\"Tres elementos de la mitad de la lista son:\")\n",
        "print(my_foods[1:])\n",
        "print(\"Los últimos tres elementos de la lista son:\")\n",
        "print(my_foods[-3:])"
      ],
      "metadata": {
        "id": "qlFk4bjnxX4g",
        "outputId": "48c8b634-45ac-441e-bbcc-3d9103ca8765",
        "colab": {
          "base_uri": "https://localhost:8080/"
        }
      },
      "execution_count": 101,
      "outputs": [
        {
          "output_type": "stream",
          "name": "stdout",
          "text": [
            "Los tres primeros elementos de la lista son:\n",
            "['pizza', 'falafel', 'carrot cake']\n",
            "Tres elementos de la mitad de la lista son:\n",
            "['falafel', 'carrot cake']\n",
            "Los últimos tres elementos de la lista son:\n",
            "['pizza', 'falafel', 'carrot cake']\n"
          ]
        }
      ]
    },
    {
      "cell_type": "markdown",
      "source": [
        "---\n",
        "\n",
        "<b> Ejercicio 2</b>\n",
        "\n",
        "Haga una copia de la lista de pizzas y llámela friend_pizzas. Luego, haz lo siguiente:\n",
        "\n",
        "* Agregue una nueva pizza a la lista original.\n",
        "* Agrega una pizza diferente a la lista friend_pizzas.\n",
        "* Demuestra que tienes dos listas separadas. Imprima el mensaje Mis pizzas favoritas son: y luego use un bucle for para imprimir la primera lista. Imprima el mensaje Las pizzas favoritas de mi amigo son: y luego use un bucle for para imprimir la segunda lista. Asegúrese de que cada pizza nueva se almacene en la lista adecuada."
      ],
      "metadata": {
        "id": "0SzOQQ7S_s1U"
      }
    },
    {
      "cell_type": "code",
      "source": [
        "lista_pizzas = ['pizza margarita','pizza hawaiana','pizza con champiñones ','pizza marinara ','pizza napolitana ']\n",
        "friend_pizzas = lista_pizzas[:]\n",
        "friend_pizzas.append(\"Nueva pizza\")\n",
        "print(\"Mis pizzas favoritas son:\")\n",
        "for val in lista_pizzas:\n",
        "  print(val)\n",
        "print(\"Las pizzas favoritas de mi amigo son:\")\n",
        "for val in friend_pizzas:\n",
        "  print(val)"
      ],
      "metadata": {
        "id": "2icc5gHay5KA",
        "outputId": "4edfabe6-04e7-4c69-c5b8-aa293b6035f1",
        "colab": {
          "base_uri": "https://localhost:8080/"
        }
      },
      "execution_count": 102,
      "outputs": [
        {
          "output_type": "stream",
          "name": "stdout",
          "text": [
            "Mis pizzas favoritas son:\n",
            "pizza margarita\n",
            "pizza hawaiana\n",
            "pizza con champiñones \n",
            "pizza marinara \n",
            "pizza napolitana \n",
            "Las pizzas favoritas de mi amigo son:\n",
            "pizza margarita\n",
            "pizza hawaiana\n",
            "pizza con champiñones \n",
            "pizza marinara \n",
            "pizza napolitana \n",
            "Nueva pizza\n"
          ]
        }
      ]
    },
    {
      "cell_type": "markdown",
      "source": [
        "# 3. Tuplas"
      ],
      "metadata": {
        "id": "qXYwCDghBHAx"
      }
    },
    {
      "cell_type": "markdown",
      "source": [
        "### Modificando una tupla"
      ],
      "metadata": {
        "id": "y-nYJPBwC5jg"
      }
    },
    {
      "cell_type": "markdown",
      "source": [
        "---\n",
        "\n",
        "<b> Ejercicio 1</b>\n",
        "\n",
        "Un restaurante estilo buffet ofrece solo cinco alimentos básicos. Piense en cinco alimentos simples y guárdelos en una tupla.\n",
        "\n",
        "* Use un bucle for para imprimir cada comida que ofrece el restaurante.\n",
        "Intente modificar uno de los elementos y asegúrese de que Python rechace el cambio.\n",
        "* El restaurante cambia su menú, reemplazando dos de los artículos con comidas diferentes. Agregue una línea que reescriba la tupla y luego use un ciclo for para imprimir cada uno de los elementos en el menú revisado.\n",
        "\n",
        "---"
      ],
      "metadata": {
        "id": "WHk9FL9lDtBY"
      }
    },
    {
      "cell_type": "code",
      "source": [
        "comidas = ('ceviche','causa','chanfainita','caldo de gallina','casusa')\n",
        "'''comida[1] = \"arroz con pollo\"'''\n",
        "comidas = ('ceviche','arroz con pollo','chanfainita','caldo de mote','casusa')\n",
        "for comida in comidas:\n",
        "  print(comida)"
      ],
      "metadata": {
        "id": "0jzlgCmziWjo",
        "outputId": "ca3c4785-ce25-4080-8694-6c39dc0985df",
        "colab": {
          "base_uri": "https://localhost:8080/"
        }
      },
      "execution_count": null,
      "outputs": [
        {
          "output_type": "stream",
          "name": "stdout",
          "text": [
            "ceviche\n",
            "arroz con pollo\n",
            "chanfainita\n",
            "caldo de mote\n",
            "casusa\n"
          ]
        }
      ]
    },
    {
      "cell_type": "markdown",
      "source": [
        "# 4. Diccionarios"
      ],
      "metadata": {
        "id": "BZTa7B8LFrIG"
      }
    },
    {
      "cell_type": "markdown",
      "source": [
        "### Usando get() para acceder a los valores"
      ],
      "metadata": {
        "id": "hHVI1fmuO_7v"
      }
    },
    {
      "cell_type": "markdown",
      "source": [
        "---\n",
        "\n",
        "<b> Ejercicio 1</b>\n",
        "\n",
        "Usa un diccionario para almacenar información sobre una persona que conoces. Almacene su nombre, apellido, edad y la ciudad en la que vive. Debe tener claves como nombre, apellido, edad y ciudad. Imprima cada parte de información almacenada en su diccionario.\n",
        "\n"
      ],
      "metadata": {
        "id": "ctXa-OLlQaXn"
      }
    },
    {
      "cell_type": "code",
      "source": [
        "persona = {'nombre':'alonso','apellido' : 'huanasca','edad':22,'ciudad':'Lima'}\n",
        "print(persona['nombre'])\n",
        "print(persona['apellido'])\n",
        "print(persona['edad'])\n",
        "print(persona['ciudad'])"
      ],
      "metadata": {
        "id": "KpQrNtn4qut-",
        "outputId": "4cbb67df-a99a-462c-be98-cae2451f8a5e",
        "colab": {
          "base_uri": "https://localhost:8080/"
        }
      },
      "execution_count": null,
      "outputs": [
        {
          "output_type": "stream",
          "name": "stdout",
          "text": [
            "alonso\n",
            "huanasca\n",
            "22\n",
            "Lima\n"
          ]
        }
      ]
    },
    {
      "cell_type": "markdown",
      "source": [
        "---\n",
        "\n",
        "<b> Ejercicio 2</b>\n",
        "\n",
        "Use un diccionario para almacenar los números favoritos de las personas. Piensa en cinco nombres y utilízalos como llaves en tu diccionario. Piense en un número favorito para cada persona y guárdelo como un valor en su diccionario. Escriba el nombre de cada persona y su número favorito. \n",
        "\n"
      ],
      "metadata": {
        "id": "7_krS5iiQ7KW"
      }
    },
    {
      "cell_type": "code",
      "source": [
        "numeros_favoritos = {'Alexander':52,'Cristian':13,'Leonardo':36,'Alexis':69,'Rosalba':63}\n",
        "for key,val in numeros_favoritos.items():\n",
        "  print(f\"{key} {val}\")"
      ],
      "metadata": {
        "id": "CXHSOiUMreGF",
        "outputId": "062b6b92-ab64-4354-f3e2-b6758f7a8d75",
        "colab": {
          "base_uri": "https://localhost:8080/"
        }
      },
      "execution_count": null,
      "outputs": [
        {
          "output_type": "stream",
          "name": "stdout",
          "text": [
            "Alexander 52\n",
            "Cristian 13\n",
            "Leonardo 36\n",
            "Alexis 69\n",
            "Rosalba 63\n"
          ]
        }
      ]
    },
    {
      "cell_type": "markdown",
      "source": [
        "---\n",
        "\n",
        "<b> Ejercicio 3</b>\n",
        "\n",
        "Piense en cinco palabras de programación que haya aprendido. Utilice estas palabras como llaves en su glosario y almacene sus significados como valores.\n",
        "\n",
        "Imprima cada palabra y su significado como una salida con un formato ordenado. Puede imprimir la palabra seguida de dos puntos y luego su significado, o imprimir la palabra en una línea y luego imprimir su significado con sangría en una segunda línea. Utilice el carácter de nueva línea (\\n) para insertar una línea en blanco entre cada par de palabra y significado en su salida.\n",
        "\n",
        "---"
      ],
      "metadata": {
        "id": "PmMzWA-nVOOi"
      }
    },
    {
      "cell_type": "code",
      "source": [
        "palabra_programacion = {\n",
        "    'list':'La list es usada para almacenar varios datos',\n",
        "    'tupla':'Una tupla es una colección de datos',\n",
        "    'class':'La clase es un modelo que almacena atributos y métodos ',\n",
        "    'function':'La función es un bloque de código que funciona cuando es llamado',\n",
        "    'input':'Es una función que nos ayuda a hacer que el usuario pueda colocar datos',\n",
        "}\n",
        "for key,val in palabra_programacion.items():\n",
        "  print(f\"{key.title()}:\\n{val}\")"
      ],
      "metadata": {
        "id": "Ax-VU5nAIwbF",
        "outputId": "2930498b-d190-46dc-ec4d-37188c736b55",
        "colab": {
          "base_uri": "https://localhost:8080/"
        }
      },
      "execution_count": 105,
      "outputs": [
        {
          "output_type": "stream",
          "name": "stdout",
          "text": [
            "List:\n",
            "La list es usada para almacenar varios datos\n",
            "Tupla:\n",
            "Una tupla es una colección de datos\n",
            "Class:\n",
            "La clase es un modelo que almacena atributos y métodos \n",
            "Function:\n",
            "La función es un bloque de código que funciona cuando es llamado\n",
            "Input:\n",
            "Es una función que nos ayuda a hacer que el usuario pueda colocar datos\n"
          ]
        }
      ]
    },
    {
      "cell_type": "markdown",
      "source": [
        "### Loops con diccionarios"
      ],
      "metadata": {
        "id": "xHZwF4EJVuP7"
      }
    },
    {
      "cell_type": "markdown",
      "source": [
        "---\n",
        "\n",
        "<b> Ejercicio 1</b>\n",
        "\n",
        "Haga un diccionario que contenga tres ríos principales y el país por el que pasa cada río. Un par clave-valor podría ser 'nilo': 'egipto'.\n",
        "\n",
        "* Use un bucle para imprimir una oración sobre cada río, como El Nilo atraviesa Egipto.\n",
        "* Utilice un bucle para imprimir el nombre de cada río incluido en el diccionario.\n",
        "* Use un bucle para imprimir el nombre de cada país incluido en el diccionario.\n"
      ],
      "metadata": {
        "id": "Ov6u5MxIj2WA"
      }
    },
    {
      "cell_type": "code",
      "source": [
        "rios = {'amazonas':'Peru','nilo':'Egipto','Misisipi':'Estados Unidos'}\n",
        "for key,val in rios.items():\n",
        "  print(f\"El {key.title()} atraviesa {val.title()}\")\n",
        "print(\"Rios:\")\n",
        "for key in rios.keys():\n",
        "  print(key)\n",
        "print(\"Paises:\")\n",
        "for key,val in rios.items():\n",
        "  print(val)"
      ],
      "metadata": {
        "id": "CkEj6X0MyPb_",
        "outputId": "794160d4-58c6-4236-e10d-a0691eac36d8",
        "colab": {
          "base_uri": "https://localhost:8080/"
        }
      },
      "execution_count": null,
      "outputs": [
        {
          "output_type": "stream",
          "name": "stdout",
          "text": [
            "El Amazonas atraviesa Peru\n",
            "El Nilo atraviesa Egipto\n",
            "El Misisipi atraviesa Estados Unidos\n",
            "Rios:\n",
            "amazonas\n",
            "nilo\n",
            "Misisipi\n",
            "Paises:\n",
            "Peru\n",
            "Egipto\n",
            "Estados Unidos\n"
          ]
        }
      ]
    },
    {
      "cell_type": "markdown",
      "source": [
        "---\n",
        "\n",
        "<b> Ejercicio 2</b>\n",
        "\n",
        "Haz una lista de las personas que deberían participar en la encuesta de idiomas favoritos. Incluye algunos nombres que ya estén en el diccionario y otros que no.\n",
        "Recorra la lista de personas que deberían realizar la encuesta. Si ya han realizado la encuesta, imprima un mensaje agradeciéndoles por responder. Si aún no han realizado la encuesta, imprima un mensaje invitándoles a realizar la encuesta.\n",
        "\n",
        "---"
      ],
      "metadata": {
        "id": "aSr26WfmkSSv"
      }
    },
    {
      "cell_type": "code",
      "source": [
        "personas= ['alonso','leonardo','cristian','paolo']\n",
        "encuesta = {'alonso':'si','paolo':'si'}\n",
        "for persona in personas:\n",
        "  if encuesta.get(persona)=='si':\n",
        "    print(f\"{persona}, gracias por responder la encuesta\")\n",
        "  else:\n",
        "    print(f\"{persona}, le invitamos a que responda nuestra encuesta\")\n"
      ],
      "metadata": {
        "id": "N09zRnrOMw3l",
        "outputId": "1a22f92d-da5c-41c7-fd94-70cecea42dc1",
        "colab": {
          "base_uri": "https://localhost:8080/"
        }
      },
      "execution_count": 117,
      "outputs": [
        {
          "output_type": "stream",
          "name": "stdout",
          "text": [
            "alonso, gracias por responder la encuesta\n",
            "leonardo, le invitamos a que responda nuestra encuesta\n",
            "cristian, le invitamos a que responda nuestra encuesta\n",
            "paolo, gracias por responder la encuesta\n"
          ]
        }
      ]
    },
    {
      "cell_type": "markdown",
      "source": [
        "### Una lista en un diccionario"
      ],
      "metadata": {
        "id": "M3RgdLwtluyF"
      }
    },
    {
      "cell_type": "markdown",
      "source": [
        "---\n",
        "\n",
        "<b> Ejercicio 1</b>\n",
        "\n",
        "Cree tres nuevos diccionarios que representen a diferentes personas y almacene los tres diccionarios en una lista llamada personas. Recorra su lista de personas. Mientras recorre la lista, imprima todo lo que sabe sobre cada persona.\n"
      ],
      "metadata": {
        "id": "3JJTjbfhmwks"
      }
    },
    {
      "cell_type": "code",
      "source": [
        "alexander = {'ciudad':'Lima','edad':22} \n",
        "leonardo = {'ciudad':'Lima','edad':20}\n",
        "alonso = {'ciudad':'Arequipa','edad':21}\n",
        "# personas.append(alexander)\n",
        "personas = [alexander,leonardo,alonso]\n",
        "for persona in personas:\n",
        "  print(f\"La persona vive en {persona['ciudad']} y tiene la edad de {persona['edad']}\")"
      ],
      "metadata": {
        "id": "NVrd99g74stI",
        "outputId": "c31ca9a3-1ba6-4cfe-c8a4-841dad9838fe",
        "colab": {
          "base_uri": "https://localhost:8080/"
        }
      },
      "execution_count": null,
      "outputs": [
        {
          "output_type": "stream",
          "name": "stdout",
          "text": [
            "La persona vive en Lima y tiene la edad de 22\n",
            "La persona vive en Lima y tiene la edad de 20\n",
            "La persona vive en Arequipa y tiene la edad de 21\n"
          ]
        }
      ]
    },
    {
      "cell_type": "markdown",
      "source": [
        "---\n",
        "\n",
        "<b> Ejercicio 2</b>\n",
        "\n",
        "Haga varios diccionarios, donde cada diccionario represente una mascota diferente. En cada diccionario, incluya el tipo de animal y el nombre del dueño. Guarde estos diccionarios en una lista llamada mascotas. A continuación, recorra su lista y, mientras lo hace, imprima todo lo que sepa sobre cada mascota."
      ],
      "metadata": {
        "id": "oU2XiQHAnAtB"
      }
    },
    {
      "cell_type": "code",
      "source": [
        "mascota_1 = {\"tipo_de_Animal\":\"perro\",\"nombre_de_Apoderado\":\"alonso\",\"nombre\":\"Laika\",\"edad\":\"15\"}\n",
        "mascota_2 = {\"tipo_de_Animal\":\"gato\",\"nombre_de_Apoderado\":\"leo\",\"nombre\":\"Kenny\",\"edad\":\"1\"}\n",
        "mascotas = [mascota_1,mascota_2]\n",
        "for mascota in mascotas:\n",
        "  print()\n",
        "  for key,val in mascota.items():\n",
        "    print(f\"{key.title()}: {val.title()}\")\n",
        "  "
      ],
      "metadata": {
        "id": "I8vt9FddO6lw",
        "outputId": "19a3abd3-a62b-4daa-f6a1-c8b86d572a43",
        "colab": {
          "base_uri": "https://localhost:8080/"
        }
      },
      "execution_count": 121,
      "outputs": [
        {
          "output_type": "stream",
          "name": "stdout",
          "text": [
            "\n",
            "Tipo_De_Animal: Perro\n",
            "Nombre_De_Apoderado: Alonso\n",
            "Nombre: Laika\n",
            "Edad: 15\n",
            "\n",
            "Tipo_De_Animal: Gato\n",
            "Nombre_De_Apoderado: Leo\n",
            "Nombre: Kenny\n",
            "Edad: 1\n"
          ]
        }
      ]
    },
    {
      "cell_type": "markdown",
      "source": [
        "---\n",
        "\n",
        "<b> Ejercicio 3</b>\n",
        "\n",
        "Haga un diccionario llamado lugares_favoritos. Piense en tres nombres para usar como llaves en el diccionario y almacene de uno a tres lugares favoritos para cada persona. Recorre el diccionario e imprime el nombre de cada persona y sus lugares favoritos."
      ],
      "metadata": {
        "id": "YH2BoPpVnMLu"
      }
    },
    {
      "cell_type": "code",
      "source": [
        "lugares_favoritos={\n",
        "  \"alonso\":['Machu pichu','Caral','Parque de la reserva'],\n",
        "  \"leo\":['Choquequirao','Ollantaytambo','La fortaleza de Sacsayhuamán'],\n",
        "  \"nadia\":['Museo de arte de Lima','Písac','Parque de las aguas']\n",
        "}\n",
        "for key,val in lugares_favoritos.items():\n",
        "  print(f\"Los lugares favoritos de {key.title()} son:\")\n",
        "  for lugar in val:\n",
        "    print(f\"_{lugar}\")"
      ],
      "metadata": {
        "id": "0W6bARiyQsLr",
        "outputId": "1913058c-2754-45f9-b3c5-825f197c7407",
        "colab": {
          "base_uri": "https://localhost:8080/"
        }
      },
      "execution_count": 128,
      "outputs": [
        {
          "output_type": "stream",
          "name": "stdout",
          "text": [
            "Los lugares favoritos de Alonso son:\n",
            "_Machu pichu\n",
            "_Caral\n",
            "_Parque de la reserva\n",
            "Los lugares favoritos de Leo son:\n",
            "_Choquequirao\n",
            "_Ollantaytambo\n",
            "_La fortaleza de Sacsayhuamán\n",
            "Los lugares favoritos de Nadia son:\n",
            "_Museo de arte de Lima\n",
            "_Písac\n",
            "_Parque de las aguas\n"
          ]
        }
      ]
    },
    {
      "cell_type": "markdown",
      "source": [
        "---\n",
        "\n",
        "<b> Ejercicio 4</b>\n",
        "\n",
        "Haz un diccionario llamado ciudades. Usa los nombres de tres ciudades como llaves en tu diccionario. Cree un diccionario de información sobre cada ciudad e incluya el país en el que se encuentra la ciudad, su población aproximada y un dato sobre esa ciudad. Las claves para el diccionario de cada ciudad deben ser algo como país, población y hecho. Imprime el nombre de cada ciudad y toda la información que tengas almacenada sobre ella."
      ],
      "metadata": {
        "id": "YjkTHXHWnY-y"
      }
    },
    {
      "cell_type": "code",
      "source": [
        "ciudades = {\n",
        "        \"Lima\":{\"pais\":\"Perú\",\"poblacion\":\"9 674 755 habitantes\",\"dato\":\"Es conciderado la capital gastronómica de Latinoamérica.\"},\n",
        "        \"Barcelona\":{\"pais\":\"España\",\"poblacion\":\"1 636 762 habitantes\",\"dato\":\"Se encuentra el club mas grande del mundo el FC Barcelona.\"},\n",
        "        \"Cusco\":{\"pais\":\"Perú\",\"poblacion\":\"428 450 habitantes\",\"dato\":\"Es considera el ombligo del mundo, debido a la altura que se encuentra y su inmensa red de caminos que nace en su territorio.\"},\n",
        "        }\n",
        "\n",
        "for key,val in ciudades.items():\n",
        "  print(f\"Ciudad de {key}:\")\n",
        "  for key1,val1 in val.items():\n",
        "    print(f\"_{key1.title()}: {val1}\")"
      ],
      "metadata": {
        "id": "7HAfKVReTho_",
        "outputId": "5b037010-4655-4d7a-ee39-bcb5fb448c9d",
        "colab": {
          "base_uri": "https://localhost:8080/"
        }
      },
      "execution_count": 133,
      "outputs": [
        {
          "output_type": "stream",
          "name": "stdout",
          "text": [
            "Ciudad de Lima:\n",
            "_Pais: Perú\n",
            "_Poblacion: 9 674 755 habitantes\n",
            "_Dato: Es conciderado la capital gastronómica de Latinoamérica.\n",
            "Ciudad de Barcelona:\n",
            "_Pais: España\n",
            "_Poblacion: 1 636 762 habitantes\n",
            "_Dato: Se encuentra el club mas grande del mundo el FC Barcelona.\n",
            "Ciudad de Cusco:\n",
            "_Pais: Perú\n",
            "_Poblacion: 428 450 habitantes\n",
            "_Dato: Es considera el ombligo del mundo, debido a la altura que se encuentra y su inmensa red de caminos que nace en su territorio.\n"
          ]
        }
      ]
    },
    {
      "cell_type": "markdown",
      "source": [
        "---\n",
        "\n",
        "<b> Ejercicio 5</b>\n",
        "\n",
        "Ahora estamos trabajando con ejemplos que son lo suficientemente complejos como para que puedan extenderse de varias maneras. Utilice uno de los programas de este laboratorio y amplíelo agregando nuevas claves y valores, cambiando el contexto del programa o mejorando el formato de la salida.\n",
        "\n",
        "---"
      ],
      "metadata": {
        "id": "hMvNIar-nqAr"
      }
    },
    {
      "cell_type": "code",
      "source": [
        "Class Persona:"
      ],
      "metadata": {
        "id": "VKMJLZuETida"
      },
      "execution_count": null,
      "outputs": []
    }
  ]
}